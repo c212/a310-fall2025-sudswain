{
  "nbformat": 4,
  "nbformat_minor": 0,
  "metadata": {
    "colab": {
      "provenance": []
    },
    "kernelspec": {
      "name": "python3",
      "display_name": "Python 3"
    },
    "language_info": {
      "name": "python"
    }
  },
  "cells": [
    {
      "cell_type": "code",
      "execution_count": 5,
      "metadata": {
        "colab": {
          "base_uri": "https://localhost:8080/"
        },
        "id": "KKKEUacTcjQ1",
        "outputId": "6833cffe-b496-4797-ccde-356796c1e0c1"
      },
      "outputs": [
        {
          "output_type": "stream",
          "name": "stdout",
          "text": [
            "Probability for biased coin:\n",
            "Probability of event arising from 'is_heads_or_tails' is 1.0\n",
            "Probability of event arising from 'is_heads' is 0.25\n",
            "Probability of event arising from 'is_tails' is 0.75\n",
            "Probability of event arising from 'is_neither' is 0.0\n",
            "\\nProbability for the Fair Coin:\n",
            "Probability of event arising from 'is_heads_or_tails' is 1.0\n",
            "Probability of event arising from 'is_heads' is 0.5\n",
            "Probability of event arising from 'is_tails' is 0.5\n",
            "Probability of event arising from 'is_neither' is 0\n"
          ]
        }
      ],
      "source": [
        "#Problem - 01\n",
        "fair_coin_space = {'Heads', 'Tails'}\n",
        "biased_coin_space = {'Heads': 1, 'Tails': 3}\n",
        "\n",
        "def is_heads(outcome): return outcome == 'Heads'\n",
        "def is_tails(outcome): return outcome == 'Tails'\n",
        "def is_heads_or_tails(outcome): return outcome in fair_coin_space\n",
        "def is_neither(outcome): return not is_heads_or_tails(outcome)\n",
        "\n",
        "def compute_event_probability(event_condition, sample_space):\n",
        "  matching_outcomes = {\n",
        "      outcome for outcome in sample_space if event_condition(outcome)\n",
        "  }\n",
        "  total = sum(sample_space.values())\n",
        "  event_total = sum(sample_space[outcome] for outcome in matching_outcomes)\n",
        "  return event_total / total\n",
        "\n",
        "event_conditions = [is_heads_or_tails, is_heads, is_tails, is_neither]\n",
        "\n",
        "print(\"Probability for biased coin:\")\n",
        "for event_condition in event_conditions:\n",
        "  prob = compute_event_probability(event_condition, biased_coin_space)\n",
        "  name = event_condition.__name__\n",
        "  print(f\"Probability of event arising from '{name}' is {prob}\")\n",
        "\n",
        "fair_probabilities = {outcome: 1/len(fair_coin_space) for outcome in fair_coin_space}\n",
        "\n",
        "print(\"\\\\nProbability for the Fair Coin:\")\n",
        "for event_condition in event_conditions:\n",
        "  matching = {outcome for outcome in fair_coin_space if event_condition(outcome)}\n",
        "  prob = sum(fair_probabilities[outcome] for outcome in matching)\n",
        "  name = event_condition.__name__\n",
        "  print(f\"Probability of event arising from '{name}' is {prob}\")"
      ]
    }
  ]
}