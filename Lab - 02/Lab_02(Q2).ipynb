{
  "nbformat": 4,
  "nbformat_minor": 0,
  "metadata": {
    "colab": {
      "provenance": []
    },
    "kernelspec": {
      "name": "python3",
      "display_name": "Python 3"
    },
    "language_info": {
      "name": "python"
    }
  },
  "cells": [
    {
      "cell_type": "code",
      "execution_count": 1,
      "metadata": {
        "colab": {
          "base_uri": "https://localhost:8080/"
        },
        "id": "lq5j5G4kl4As",
        "outputId": "b90ccccf-33e4-4983-98fc-39e35213c209"
      },
      "outputs": [
        {
          "output_type": "stream",
          "name": "stdout",
          "text": [
            "Probability of exactly 2 girls out of the children is : 0.375\n"
          ]
        }
      ],
      "source": [
        "#Problem - 02\n",
        "from itertools import product\n",
        "def compute_event_probability(event_condition, sample_space):\n",
        "  matching_outcomes = {\n",
        "      outcome for outcome in sample_space if event_condition(outcome)\n",
        "  }\n",
        "  total = sum(sample_space.values())\n",
        "\n",
        "  event_total = sum(sample_space [outcome] for outcome in matching_outcomes)\n",
        "  return event_total/total\n",
        "\n",
        "possible_children = ['Boy', 'Girl']\n",
        "sample_space = {outcome: 1 for outcome in product(possible_children, repeat = 4)}\n",
        "\n",
        "def has_two_girls(outcome):\n",
        "  return sum(1 for child in outcome if child == 'Girl') == 2\n",
        "\n",
        "probability = compute_event_probability(has_two_girls, sample_space)\n",
        "print(f\"Probability of exactly 2 girls out of the children is : {probability}\")"
      ]
    }
  ]
}